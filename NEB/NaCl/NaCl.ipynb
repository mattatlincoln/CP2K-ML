{
 "cells": [
  {
   "cell_type": "code",
   "execution_count": 23,
   "metadata": {},
   "outputs": [],
   "source": [
    "from ase.io import read, write\n",
    "from ase import atoms\n",
    "from ase.calculators import cp2k\n",
    "import numpy as np\n",
    "import matplotlib.pyplot as plt"
   ]
  },
  {
   "cell_type": "code",
   "execution_count": null,
   "metadata": {},
   "outputs": [],
   "source": [
    "NaCl_crystal = read('NaCl.pdb')"
   ]
  },
  {
   "cell_type": "code",
   "execution_count": 3,
   "metadata": {},
   "outputs": [],
   "source": [
    "cp2k_input = \"\"\"\n",
    "&FORCE_EVAL\n",
    "  METHOD Fist\n",
    "  &MM\n",
    "    &FORCEFIELD\n",
    "      &CHARGE\n",
    "        ATOM Na\n",
    "        CHARGE +1.000\n",
    "      &END CHARGE\n",
    "      &CHARGE\n",
    "        ATOM Cl\n",
    "        CHARGE -1.000\n",
    "      &END CHARGE\n",
    "      &NONBONDED\n",
    "        &BMHFT\n",
    "          map_atoms NA NA\n",
    "          atoms NA NA\n",
    "          RCUT 10.0\n",
    "        &END BMHFT\n",
    "        &BMHFT\n",
    "          map_atoms NA CL\n",
    "          atoms NA CL\n",
    "          RCUT 10.0\n",
    "        &END BMHFT\n",
    "        &BMHFT\n",
    "          map_atoms CL CL\n",
    "          atoms CL CL\n",
    "          RCUT 10.0\n",
    "        &END BMHFT\n",
    "      &END NONBONDED\n",
    "    &END FORCEFIELD\n",
    "    &POISSON\n",
    "      &EWALD\n",
    "        EWALD_TYPE spme\n",
    "        ALPHA .5\n",
    "        GMAX 40\n",
    "        O_SPLINE 6\n",
    "      &END EWALD\n",
    "    &END POISSON\n",
    "  &END MM\n",
    "  &SUBSYS\n",
    "    &CELL\n",
    "      ABC 22.480 22.480 22.480\n",
    "    &END CELL\n",
    "    &TOPOLOGY\n",
    "      &GENERATE\n",
    "         BONDLENGTH_MAX [bohr] 6.5\n",
    "      &END\n",
    "    &END TOPOLOGY\n",
    "  &END SUBSYS\n",
    "&END FORCE_EVAL\n",
    "&MOTION\n",
    "  &MD\n",
    "    ENSEMBLE NVT\n",
    "    STEPS 10\n",
    "    TIMESTEP 2.5\n",
    "    TEMPERATURE 300.0\n",
    "    &THERMOSTAT\n",
    "      &NOSE\n",
    "        LENGTH 3\n",
    "        YOSHIDA 3\n",
    "        TIMECON 1000\n",
    "        MTS 2\n",
    "      &END NOSE\n",
    "      &PRINT\n",
    "        &ENERGY\n",
    "        &END\n",
    "      &END\n",
    "    &END\n",
    "  &END MD\n",
    "&END MOTION\n",
    "\"\"\""
   ]
  },
  {
   "cell_type": "code",
   "execution_count": 4,
   "metadata": {},
   "outputs": [
    {
     "name": "stderr",
     "output_type": "stream",
     "text": [
      "/home/mattw/miniconda3/envs/pymatgen/lib/python3.13/site-packages/ase/calculators/cp2k.py:319: UserWarning: ASE may stall when passing large structures to MPI versions of CP2K. Consider using `set_pos_file=True`.\n",
      "  warn('ASE may stall when passing large structures'\n"
     ]
    },
    {
     "name": "stdout",
     "output_type": "stream",
     "text": [
      "Atoms(symbols='Cl256Na256', pbc=True, cell=[22.48, 22.48, 22.48], atomtypes=..., bfactor=..., occupancy=..., residuenames=..., residuenumbers=...) -2061.3166833721\n",
      "Atoms(symbols='Cl255Na256', pbc=True, cell=[22.48, 22.48, 22.48], atomtypes=..., bfactor=..., occupancy=..., residuenames=..., residuenumbers=...) -2054.1004703156\n",
      "Atoms(symbols='Cl255Na256', pbc=True, cell=[22.48, 22.48, 22.48], atomtypes=..., bfactor=..., occupancy=..., residuenames=..., residuenumbers=...) -2054.1004703156\n"
     ]
    }
   ],
   "source": [
    "with cp2k.CP2K(\n",
    "    inp=cp2k_input,\n",
    "    basis_set=None,\n",
    "    basis_set_file=None,\n",
    "    max_scf=None,\n",
    "    cutoff=None,\n",
    "    force_eval_method=None,\n",
    "    potential_file=None,\n",
    "    poisson_solver=None,\n",
    "    pseudo_potential=None,\n",
    "    stress_tensor=False,\n",
    "    xc=None,\n",
    "    label='NaCl') as calc:\n",
    "        calc.command=\"cp2k_shell.psmp\"\n",
    "        energy = calc.get_potential_energy(atoms=NaCl_crystal)\n",
    "        print(NaCl_crystal, energy)\n",
    "        \n",
    "        vac1 = NaCl_crystal[[atom.index for atom in NaCl_crystal if atom.index != 1]]\n",
    "        energy = calc.get_potential_energy(atoms=vac1)\n",
    "        print(vac1, energy)\n",
    "                \n",
    "        NaCl_crystal.positions[[1, 3]] = NaCl_crystal.positions[[3, 1]]\n",
    "        vac2 = NaCl_crystal[[atom.index for atom in NaCl_crystal if atom.index != 1]]\n",
    "        energy = calc.get_potential_energy(atoms=vac2)\n",
    "        print(vac2, energy)\n"
   ]
  },
  {
   "cell_type": "code",
   "execution_count": null,
   "metadata": {},
   "outputs": [],
   "source": [
    "import numpy as np\n",
    "\n",
    "from ase.calculators.emt import EMT\n",
    "from ase.constraints import FixAtoms\n",
    "from ase.io import read\n",
    "from ase.mep import NEB\n",
    "from ase.optimize.fire import FIRE as QuasiNewton\n",
    "\n",
    "# Read the previous configurations\n",
    "initial = vac1\n",
    "final = vac2\n",
    "\n",
    "for ends in initial, final:\n",
    "    ends.calc =cp2k.CP2K(\n",
    "    inp=cp2k_input,\n",
    "    basis_set=None,\n",
    "    basis_set_file=None,\n",
    "    max_scf=None,\n",
    "    cutoff=None,\n",
    "    force_eval_method=None,\n",
    "    potential_file=None,\n",
    "    poisson_solver=None,\n",
    "    pseudo_potential=None,\n",
    "    stress_tensor=False,\n",
    "    xc=None,\n",
    "    label='NaCl_vac')\n",
    "    ends.calc.command=\"cp2k_shell.psmp\"\n",
    "    #config.set_constraint(constraint)\n",
    "\n"
   ]
  },
  {
   "cell_type": "code",
   "execution_count": 26,
   "metadata": {},
   "outputs": [
    {
     "name": "stdout",
     "output_type": "stream",
     "text": [
      "      Step     Time          Energy          fmax\n",
      "FIRE:    0 10:13:11    -2056.154212        0.038825\n",
      "initial state: -2056.1542115166\n",
      "      Step     Time          Energy          fmax\n",
      "FIRE:    0 10:13:11    -2056.154212        0.038825\n",
      "final state: -2056.1542115166\n"
     ]
    }
   ],
   "source": [
    "relax = QuasiNewton(initial)\n",
    "relax.run(fmax=0.05)\n",
    "print('initial state:', initial.calc.get_potential_energy())\n",
    "write('initial.traj', initial)\n",
    "\n",
    "relax = QuasiNewton(final)\n",
    "relax.run(fmax=0.05)\n",
    "print('final state:', final.calc.get_potential_energy())\n",
    "write('final.traj', final)"
   ]
  },
  {
   "cell_type": "code",
   "execution_count": 53,
   "metadata": {},
   "outputs": [
    {
     "name": "stderr",
     "output_type": "stream",
     "text": [
      "/home/mattw/miniconda3/envs/pymatgen/lib/python3.13/site-packages/ase/calculators/cp2k.py:319: UserWarning: ASE may stall when passing large structures to MPI versions of CP2K. Consider using `set_pos_file=True`.\n",
      "  warn('ASE may stall when passing large structures'\n"
     ]
    },
    {
     "name": "stdout",
     "output_type": "stream",
     "text": [
      "      Step     Time          Energy          fmax\n",
      "FIRE:    0 14:55:22    -2054.567413        1.932585\n",
      "FIRE:    1 14:55:23    -2054.664400        1.704682\n",
      "FIRE:    2 14:55:23    -2054.823627        1.309114\n",
      "FIRE:    3 14:55:24    -2054.995794        0.836647\n",
      "FIRE:    4 14:55:24    -2055.141061        0.460924\n",
      "FIRE:    5 14:55:25    -2055.237662        0.377540\n",
      "FIRE:    6 14:55:25    -2055.295964        0.283328\n",
      "FIRE:    7 14:55:26    -2055.332475        0.395456\n",
      "FIRE:    8 14:55:27    -2055.357734        0.444961\n",
      "FIRE:    9 14:55:27    -2055.375955        0.412474\n",
      "FIRE:   10 14:55:28    -2055.387637        0.317941\n",
      "FIRE:   11 14:55:28    -2055.392977        0.227943\n",
      "FIRE:   12 14:55:29    -2055.396320        0.222259\n",
      "FIRE:   13 14:55:29    -2055.402680        0.211096\n",
      "FIRE:   14 14:55:30    -2055.411442        0.194819\n",
      "FIRE:   15 14:55:30    -2055.421776        0.174010\n",
      "FIRE:   16 14:55:31    -2055.432732        0.149410\n",
      "FIRE:   17 14:55:31    -2055.443358        0.127728\n",
      "FIRE:   18 14:55:32    -2055.452803        0.106075\n",
      "FIRE:   19 14:55:32    -2055.461099        0.077291\n",
      "FIRE:   20 14:55:33    -2055.467127        0.039960\n",
      "4.863769125118358 0.0\n",
      "4.862264974199169 0.10468271479976465\n",
      "4.86083101189082 0.34569089179967705\n",
      "4.859755300747678 0.587088662899987\n",
      "4.8589977041356045 0.6870845222997559\n",
      "4.858383590217437 0.587088662899987\n",
      "4.857792815579492 0.34569089179967705\n",
      "4.857257429279097 0.10468271479976465\n",
      "4.857595855004284 0.0\n"
     ]
    }
   ],
   "source": [
    "#  Make 9 images (note the use of copy)\n",
    "configs = [initial.copy() for i in range(8)] + [final]\n",
    "\n",
    "# As before, fix the Cu atoms\n",
    "#constraint = FixAtoms(mask=[atom.symbol != 'N' for atom in initial])\n",
    "\n",
    "for config in configs:\n",
    "    config.calc =cp2k.CP2K(\n",
    "    inp=cp2k_input,\n",
    "    #basis_set=None,\n",
    "    #basis_set_file=None,\n",
    "    #max_scf=None,\n",
    "    #cutoff=None,\n",
    "    force_eval_method=None,\n",
    "    #potential_file=None,\n",
    "    #poisson_solver=None,\n",
    "    #pseudo_potential=None,\n",
    "    #stress_tensor=False,\n",
    "    #xc=None,\n",
    "    label='NaCl_vac')\n",
    "    config.calc.command=\"cp2k_shell.psmp\"\n",
    "    #config.set_constraint(constraint)\n",
    "\n",
    "# Make the NEB object, interpolate to guess the intermediate steps\n",
    "band = NEB(configs, )\n",
    "band.interpolate()\n",
    "\n",
    "relax = QuasiNewton(band, trajectory='A2B.traj')\n",
    "\n",
    "# Do the calculation\n",
    "relax.run()\n",
    "\n",
    "# Compare intermediate steps to initial energy\n",
    "e0 = configs[0].get_potential_energy()\n",
    "for config in configs:\n",
    "    d = config[-2].position - config[-1].position\n",
    "    print(np.linalg.norm(d), config.get_potential_energy() - e0)"
   ]
  },
  {
   "cell_type": "code",
   "execution_count": 60,
   "metadata": {},
   "outputs": [
    {
     "data": {
      "text/plain": [
       "<matplotlib.collections.PathCollection at 0x7f16ad5ca900>"
      ]
     },
     "execution_count": 60,
     "metadata": {},
     "output_type": "execute_result"
    },
    {
     "data": {
      "image/png": "[encoded data removed]",
      "text/plain": [
       "<Figure size 640x480 with 1 Axes>"
      ]
     },
     "metadata": {},
     "output_type": "display_data"
    }
   ],
   "source": [
    "e0 = configs[0].get_potential_energy()\n",
    "distance, energy = [], []\n",
    "tot_distance = 0\n",
    "for config in configs:\n",
    "    d = config[-2].position - config[-1].position\n",
    "    tot_distance += np.linalg.norm(d)\n",
    "    distance.append(tot_distance)\n",
    "    energy.append(config.get_potential_energy() - e0)\n",
    "plt.plot(distance, energy)\n",
    "plt.scatter(distance, energy)"
   ]
  },
  {
   "cell_type": "code",
   "execution_count": 52,
   "metadata": {},
   "outputs": [],
   "source": [
    "import ase\n",
    "for i in range(1, 9):\n",
    "    write(\"image_{}.xyz\".format(i), configs[i])"
   ]
  }
 ],
 "metadata": {
  "kernelspec": {
   "display_name": "pymatgen",
   "language": "python",
   "name": "python3"
  },
  "language_info": {
   "codemirror_mode": {
    "name": "ipython",
    "version": 3
   },
   "file_extension": ".py",
   "mimetype": "text/x-python",
   "name": "python",
   "nbconvert_exporter": "python",
   "pygments_lexer": "ipython3",
   "version": "3.13.0"
  }
 },
 "nbformat": 4,
 "nbformat_minor": 2
}
